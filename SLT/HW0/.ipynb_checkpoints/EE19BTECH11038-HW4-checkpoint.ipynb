{
 "cells": [
  {
   "cell_type": "code",
   "execution_count": 1,
   "id": "03ac2c49",
   "metadata": {},
   "outputs": [],
   "source": [
    "import numpy as np\n",
    "import pandas as pd\n",
    "import matplotlib.pyplot as plt"
   ]
  },
  {
   "cell_type": "markdown",
   "id": "6ad3db17",
   "metadata": {},
   "source": [
    "# Multi Layer Perceptron\n",
    "The below class is systematic approach for implementing ANN. The following methods are being implemented in the class MLP()\\\n",
    "* split_samples(); This shuffles and splits the dataset into Training data and Validation data\n",
    "* initialise_params(); This method initializes weights and biases with random number\n",
    "* sigmoid(); This method computes sigmoid for a given input\n",
    "* forward_prop(); This method defines forward propagation of the desired NN\n",
    "* predict_for_valid(); This method is similar to forward_prop(), but just does'nt update the attribuites of class\n",
    "* predict(); This method is same as predict_for_valid(), but threshould the output to given boolean output\n",
    "* train_loss() & valid_loss(); These methods computes the Loss for the given X and Y\n",
    "* back_prop(); This method computes gradients to be updated while in training\n",
    "* update_params(); Updates the gradients\n",
    "* train(); Use above method to train the network and save losses at each epoch\n",
    "* plot(); Plots the losses against number of epochs\n",
    "* print_params(); Prints the learnt weights and biases"
   ]
  },
  {
   "cell_type": "code",
   "execution_count": 2,
   "id": "d03faad2",
   "metadata": {},
   "outputs": [],
   "source": [
    "class MLP():\n",
    "    def __init__(self, X, Y, learning_rate=0.05, validation_split=None):\n",
    "        self.X = X\n",
    "        self.Y = Y\n",
    "        self.X_train = self.X_valid = self.Y_train = self.Y_valid = None\n",
    "        self.lr = learning_rate\n",
    "        self.validation_split = validation_split\n",
    "        self.W1 = self.W2 = self.b1 = self.b2 = self.z1 = self.z2 = self.A1 = self.A2 = None\n",
    "        self.dW1 = self.dW2 = self.db1 = self.db2 = self.dz1 = self.dz2 = None\n",
    "        self.training_loss = self.validation_loss = None\n",
    "    \n",
    "    def split_samples(self):\n",
    "        indices = np.arange(N)\n",
    "        np.random.shuffle(indices)\n",
    "        x = self.X[:, indices]\n",
    "        y = self.Y[:, indices]\n",
    "        vs = 0\n",
    "        m = self.X.shape[1]\n",
    "        if self.validation_split is not None:\n",
    "            vs = int(self.validation_split*m)\n",
    "        self.X_train = x[:, 0:(m-vs)]\n",
    "        self.Y_train = y[:, 0:(m-vs)]\n",
    "        self.X_valid = x[:, (m-vs):]\n",
    "        self.Y_valid = y[:, (m-vs):]\n",
    "        print(\"-> Total samples = {}\\n-> Training samples = {}\\n-> Validation samples = {}\".format(int(m), int(m)-vs, vs))\n",
    "        \n",
    "        \n",
    "    def initialise_params(self):\n",
    "        self.W1 = np.random.randn(2, 2)\n",
    "        self.b1 = np.random.randn(2, 1)\n",
    "        \n",
    "        self.W2 = np.random.randn(1, 2)\n",
    "        self.b2 = np.random.randn(1, 1)\n",
    "\n",
    "    def sigmoid(self, x):\n",
    "        return 1/(1 + np.exp(-1*x))\n",
    "        \n",
    "    def forward_prop(self, X):\n",
    "        self.z1 = self.W1@X + self.b1\n",
    "        self.A1 = self.sigmoid(self.z1)\n",
    "        \n",
    "        self.z2 = self.W2@self.A1 + self.b2\n",
    "        self.A2 = self.sigmoid(self.z2)\n",
    "    \n",
    "    def predict_for_valid(self, X):\n",
    "        z1 = self.W1@X + self.b1\n",
    "        A1 = self.sigmoid(z1)\n",
    "        \n",
    "        z2 = self.W2@A1 + self.b2\n",
    "        A2 = self.sigmoid(z2)\n",
    "        return A2\n",
    "    \n",
    "    def predict(self, X):\n",
    "        z1 = self.W1@X + self.b1\n",
    "        A1 = self.sigmoid(z1)\n",
    "        \n",
    "        z2 = self.W2@A1 + self.b2\n",
    "        A2 = self.sigmoid(z2)\n",
    "        A2[A2 >= 0.5] = 1\n",
    "        A2[A2 < 0.5] = 0\n",
    "        return A2\n",
    "    \n",
    "    def train_loss(self, Y):\n",
    "        return np.sum(np.power(Y - self.A2, 2))\n",
    "    \n",
    "    def valid_loss(self, X, Y):\n",
    "        Y_hat = self.predict_for_valid(X)\n",
    "        return np.sum(np.power(Y - Y_hat, 2))\n",
    "    \n",
    "    def back_prop(self, X, Y):\n",
    "        self.dz2 = self.A2*(1 - self.A2) * 2*(self.A2 - Y)\n",
    "        self.dW2 = self.dz2 @ self.A1.T\n",
    "        self.db2 = np.sum(self.dz2, axis=1, keepdims=True)\n",
    "        \n",
    "        self.dz1 = (self.W2.T @ self.dz2) * (self.A1*(1 - self.A1))\n",
    "        self.dW1 = self.dz1 @ X.T\n",
    "        self.db1 = np.sum(self.dz1, axis=1, keepdims=True)\n",
    "    \n",
    "    def update_params(self):\n",
    "        self.W1 -= self.lr * self.dW1\n",
    "        self.W2 -= self.lr * self.dW2\n",
    "        self.b1 -= self.lr * self.db1\n",
    "        self.b2 -= self.lr * self.db2\n",
    "    \n",
    "    def train(self, epochs=1, mini_batch_size=1, verbose=True):\n",
    "        \n",
    "        self.epoch = epochs \n",
    "        \n",
    "        self.split_samples()\n",
    "        \n",
    "        self.training_loss = np.zeros((1, epochs))\n",
    "        self.validation_loss = np.zeros((1, epochs))\n",
    "        \n",
    "        N_mini_batch_size = int(self.X_train.shape[1] / mini_batch_size)\n",
    "        \n",
    "        self.initialise_params()\n",
    "        \n",
    "        for i in range(epochs):\n",
    "            for j in range(N_mini_batch_size-1):\n",
    "                X = self.X_train[:, (j)*mini_batch_size : (j+1)*mini_batch_size]\n",
    "                Y = self.Y_train[:, (j)*mini_batch_size : (j+1)*mini_batch_size]\n",
    "                \n",
    "                self.forward_prop(X)\n",
    "                \n",
    "                self.training_loss[0, i] += (self.train_loss(Y))\n",
    "                self.validation_loss[0, i] += (self.valid_loss(self.X_valid, self.Y_valid))\n",
    "                \n",
    "                self.back_prop(X, Y)\n",
    "                \n",
    "                self.update_params()\n",
    "                \n",
    "            X = self.X_train[:, (-1*N_mini_batch_size) :]\n",
    "            Y = self.Y_train[:, (-1*N_mini_batch_size) :]\n",
    "\n",
    "            self.forward_prop(X)\n",
    "\n",
    "            self.training_loss[0, i] += (self.train_loss(Y))\n",
    "            self.validation_loss[0, i] += (self.valid_loss(self.X_valid, self.Y_valid))\n",
    "\n",
    "            self.back_prop(X, Y)\n",
    "\n",
    "            self.update_params()  \n",
    "            if verbose:\n",
    "                print(\"Epoch {} :- Training Loss is {}, Validation Loss is {}\".format(i+1, self.training_loss[0, i], self.validation_loss[0, i]))\n",
    "\n",
    "    def plot(self):\n",
    "        plt.figure()\n",
    "        plt.xlabel(\"epoch\")\n",
    "        plt.ylabel(\"MSE\")\n",
    "        plt.semilogy(np.arange(self.epoch), self.training_loss.reshape(self.epoch, ), label=\"Training\")\n",
    "        plt.semilogy(np.arange(self.epoch), self.validation_loss.reshape(self.epoch, ), label=\"Validation\")\n",
    "        plt.legend()\n",
    "        plt.show()\n",
    "    \n",
    "    def print_params(self):\n",
    "        print(\"########### Hidden layer #########\")\n",
    "        print(\"[w11={:.3f} w12={:.3f}]\\n[w21={:.3f} w22={:.3f}]\".format(self.W1[0, 0], self.W1[0, 1], self.W1[1, 0], self.W1[1, 1]))\n",
    "        print(\"[b1={:.3f} b2={:.3f}]\".format(self.b1[0, 0], self.b1[1, 0]))\n",
    "        print(\"\\n\")\n",
    "        print(\"########## Output layer ##########\")\n",
    "        print(\"[w1={:.3f} w2={:.3f}]\".format(self.W2[0, 0], self.W2[0, 1]))\n",
    "        print(\"[b={:.3f}]\".format(self.b2[0, 0]))"
   ]
  },
  {
   "cell_type": "markdown",
   "id": "8c8cdc04",
   "metadata": {},
   "source": [
    "# Generating dataset"
   ]
  },
  {
   "cell_type": "code",
   "execution_count": 3,
   "id": "7aed9078",
   "metadata": {},
   "outputs": [],
   "source": [
    "def generate_samples(N, operation):\n",
    "    var = 0.01\n",
    "    X = np.zeros((2, N))\n",
    "    X[:, 0:4] = np.matrix([[0, 0, 1, 1], [0, 1, 0, 1]])\n",
    "    Y = np.zeros((1, N))\n",
    "    \n",
    "    if(operation == \"XOR\"):\n",
    "        Y[0, 0:4] = np.array([0, 1, 1, 0])\n",
    "    elif(operation == \"AND\"):\n",
    "        Y[0, 0:4] = np.array([0, 0, 0, 1])\n",
    "    elif(operation == \"OR\"):\n",
    "        Y[0, 0:4] = np.array([0, 1, 1, 1])\n",
    "    \n",
    "    for i in range(4, N):\n",
    "        X[0, i] = X[0, i%4] + np.sqrt(var)*np.random.randn()\n",
    "        X[1, i] = X[1, i%4] + np.sqrt(var)*np.random.randn()\n",
    "        Y[0, i] = Y[0, i%4]\n",
    "    \n",
    "    indices = np.arange(N)\n",
    "    np.random.shuffle(indices)\n",
    "    x = X[:, indices]\n",
    "    y = Y[:, indices]\n",
    "    return x, y"
   ]
  },
  {
   "cell_type": "code",
   "execution_count": 4,
   "id": "f501711a",
   "metadata": {},
   "outputs": [],
   "source": [
    "N = 1000\n",
    "X_xor, Y_xor = generate_samples(N, \"XOR\")\n",
    "XOR = MLP(X_xor, Y_xor, validation_split = 0.2)"
   ]
  },
  {
   "cell_type": "markdown",
   "id": "65d79421",
   "metadata": {},
   "source": [
    "## Visulisation of input data"
   ]
  },
  {
   "cell_type": "code",
   "execution_count": 5,
   "id": "1b4b6a22",
   "metadata": {},
   "outputs": [
    {
     "data": {
      "text/plain": [
       "[<matplotlib.lines.Line2D at 0x7fa2f003d850>]"
      ]
     },
     "execution_count": 5,
     "metadata": {},
     "output_type": "execute_result"
    },
    {
     "data": {
      "image/png": "[encoded data removed]",
      "text/plain": [
       "<Figure size 432x288 with 1 Axes>"
      ]
     },
     "metadata": {
      "needs_background": "light"
     },
     "output_type": "display_data"
    }
   ],
   "source": [
    "plt.figure()\n",
    "plt.grid()\n",
    "plt.plot(X_xor[0, :], X_xor[1, :], \"bo\")\n",
    "plt.plot(1, 1, \"go\")\n",
    "plt.plot(1, 0, \"go\")\n",
    "plt.plot(0, 0, \"go\")\n",
    "plt.plot(0, 1, \"go\")"
   ]
  },
  {
   "cell_type": "markdown",
   "id": "061abf49",
   "metadata": {},
   "source": [
    "## Training for XOR"
   ]
  },
  {
   "cell_type": "code",
   "execution_count": 6,
   "id": "fd6c7a61",
   "metadata": {
    "scrolled": true
   },
   "outputs": [
    {
     "name": "stdout",
     "output_type": "stream",
     "text": [
      "-> Total samples = 1000\n",
      "-> Training samples = 800\n",
      "-> Validation samples = 200\n",
      "Epoch 1 :- Training Loss is 206.5206676863715, Validation Loss is 691.7080845374801\n",
      "Epoch 2 :- Training Loss is 182.4361719700195, Validation Loss is 606.4538073599523\n",
      "Epoch 3 :- Training Loss is 181.4328037042833, Validation Loss is 602.5701426241919\n",
      "Epoch 4 :- Training Loss is 180.44742321093685, Validation Loss is 598.3026913635819\n",
      "Epoch 5 :- Training Loss is 179.211724235393, Validation Loss is 592.7765868258907\n",
      "Epoch 6 :- Training Loss is 177.49595525183935, Validation Loss is 585.1921200058831\n",
      "Epoch 7 :- Training Loss is 175.08586763631985, Validation Loss is 574.8094817366097\n",
      "Epoch 8 :- Training Loss is 171.78939184231808, Validation Loss is 561.017359306207\n",
      "Epoch 9 :- Training Loss is 167.49799754601855, Validation Loss is 543.5967602301869\n",
      "Epoch 10 :- Training Loss is 162.29010841488997, Validation Loss is 523.0908437165932\n",
      "Epoch 11 :- Training Loss is 156.45888062984443, Validation Loss is 500.8088008147503\n",
      "Epoch 12 :- Training Loss is 150.38978032842172, Validation Loss is 478.2666302287888\n",
      "Epoch 13 :- Training Loss is 144.38396171205542, Validation Loss is 456.5314193893612\n",
      "Epoch 14 :- Training Loss is 138.56010471982822, Validation Loss is 435.9440355181117\n",
      "Epoch 15 :- Training Loss is 132.83247499532484, Validation Loss is 416.1303434405893\n",
      "Epoch 16 :- Training Loss is 126.85127535366185, Validation Loss is 395.8534984541365\n",
      "Epoch 17 :- Training Loss is 119.72645725279168, Validation Loss is 372.08566430823464\n",
      "Epoch 18 :- Training Loss is 109.24369449449728, Validation Loss is 337.35442725714466\n",
      "Epoch 19 :- Training Loss is 91.62608873319081, Validation Loss is 279.63466844824285\n",
      "Epoch 20 :- Training Loss is 68.41759871629218, Validation Loss is 206.14594075976214\n",
      "Epoch 21 :- Training Loss is 48.96544784103911, Validation Loss is 146.57291232897947\n",
      "Epoch 22 :- Training Loss is 36.216810460534916, Validation Loss is 108.07355476846615\n",
      "Epoch 23 :- Training Loss is 28.05788366183093, Validation Loss is 83.4930929509776\n",
      "Epoch 24 :- Training Loss is 22.60136844663325, Validation Loss is 67.04788204942615\n",
      "Epoch 25 :- Training Loss is 18.76976964649888, Validation Loss is 55.495580381578364\n",
      "Epoch 26 :- Training Loss is 15.964108114034975, Validation Loss is 47.037145408251206\n",
      "Epoch 27 :- Training Loss is 13.83753415055409, Validation Loss is 40.629146250685245\n",
      "Epoch 28 :- Training Loss is 12.17923659834929, Validation Loss is 35.636143375175344\n",
      "Epoch 29 :- Training Loss is 10.855243856983359, Validation Loss is 31.653649295803675\n",
      "Epoch 30 :- Training Loss is 9.777030228307309, Validation Loss is 28.414075932843858\n",
      "Epoch 31 :- Training Loss is 8.884094778081682, Validation Loss is 25.734414479202393\n",
      "Epoch 32 :- Training Loss is 8.13386752674641, Validation Loss is 23.48584857091825\n",
      "Epoch 33 :- Training Loss is 7.495628114073304, Validation Loss is 21.575409372475395\n",
      "Epoch 34 :- Training Loss is 6.9467121825558005, Validation Loss is 19.934513573684026\n",
      "Epoch 35 :- Training Loss is 6.470070721570566, Validation Loss is 18.511580760094432\n",
      "Epoch 36 :- Training Loss is 6.052656270336093, Validation Loss is 17.267148178335354\n",
      "Epoch 37 :- Training Loss is 5.684329526734671, Validation Loss is 16.17055932190531\n",
      "Epoch 38 :- Training Loss is 5.357102225199561, Validation Loss is 15.197670382963908\n",
      "Epoch 39 :- Training Loss is 5.064602500881728, Validation Loss is 14.329230554125182\n",
      "Epoch 40 :- Training Loss is 4.801690631030343, Validation Loss is 13.549717942440896\n",
      "Epoch 41 :- Training Loss is 4.564178397323396, Validation Loss is 12.84648948944166\n",
      "Epoch 42 :- Training Loss is 4.348621115303318, Validation Loss is 12.209151108108625\n",
      "Epoch 43 :- Training Loss is 4.152161446817598, Validation Loss is 11.62908474190108\n",
      "Epoch 44 :- Training Loss is 3.9724106589900576, Validation Loss is 11.099088889781497\n",
      "Epoch 45 :- Training Loss is 3.8073573302527803, Validation Loss is 10.613102286474472\n",
      "Epoch 46 :- Training Loss is 3.655296426041296, Validation Loss is 10.165989285621832\n",
      "Epoch 47 :- Training Loss is 3.5147736666844542, Validation Loss is 9.753371556920579\n",
      "Epoch 48 :- Training Loss is 3.3845414988553393, Validation Loss is 9.371494919059852\n",
      "Epoch 49 :- Training Loss is 3.263523959509552, Validation Loss is 9.017123093934318\n",
      "Epoch 50 :- Training Loss is 3.150788417998578, Validation Loss is 8.68745227978675\n",
      "Epoch 51 :- Training Loss is 3.0455226845096046, Validation Loss is 8.380041963930214\n",
      "Epoch 52 :- Training Loss is 2.947016339313337, Validation Loss is 8.092758505916036\n",
      "Epoch 53 :- Training Loss is 2.8546454071291514, Validation Loss is 7.823728839643682\n",
      "Epoch 54 :- Training Loss is 2.7678597015827133, Validation Loss is 7.571302250868495\n",
      "Epoch 55 :- Training Loss is 2.6861723153165133, Validation Loss is 7.334018642720594\n",
      "Epoch 56 :- Training Loss is 2.6091508452827283, Validation Loss is 7.110582047029956\n",
      "Epoch 57 :- Training Loss is 2.536410029699174, Validation Loss is 6.899838402562928\n",
      "Epoch 58 :- Training Loss is 2.467605539992817, Validation Loss is 6.700756823661559\n",
      "Epoch 59 :- Training Loss is 2.4024287228112313, Validation Loss is 6.512413739456976\n",
      "Epoch 60 :- Training Loss is 2.3406021275298623, Validation Loss is 6.333979405951607\n",
      "Epoch 61 :- Training Loss is 2.281875686340272, Validation Loss is 6.164706389070761\n",
      "Epoch 62 :- Training Loss is 2.2260234389963083, Validation Loss is 6.003919692406152\n",
      "Epoch 63 :- Training Loss is 2.1728407141402313, Validation Loss is 5.851008263413706\n",
      "Epoch 64 :- Training Loss is 2.122141694977051, Validation Loss is 5.705417659762636\n",
      "Epoch 65 :- Training Loss is 2.0737573097856923, Validation Loss is 5.566643696005857\n",
      "Epoch 66 :- Training Loss is 2.027533398018444, Validation Loss is 5.434226921778032\n",
      "Epoch 67 :- Training Loss is 1.983329111060548, Validation Loss is 5.307747807885521\n",
      "Epoch 68 :- Training Loss is 1.941015513498503, Validation Loss is 5.186822537140537\n",
      "Epoch 69 :- Training Loss is 1.9004743562897093, Validation Loss is 5.071099313550431\n",
      "Epoch 70 :- Training Loss is 1.8615969977809006, Validation Loss is 4.960255117239576\n",
      "Epoch 71 :- Training Loss is 1.8242834522802007, Validation Loss is 4.853992843836345\n",
      "Epoch 72 :- Training Loss is 1.7884415489993721, Validation Loss is 4.752038776459916\n",
      "Epoch 73 :- Training Loss is 1.7539861867694806, Validation Loss is 4.6541403462563204\n",
      "Epoch 74 :- Training Loss is 1.7208386720911812, Validation Loss is 4.560064143952161\n",
      "Epoch 75 :- Training Loss is 1.6889261298875178, Validation Loss is 4.469594150350792\n",
      "Epoch 76 :- Training Loss is 1.6581809778446004, Validation Loss is 4.382530158278864\n",
      "Epoch 77 :- Training Loss is 1.6285404565043713, Validation Loss is 4.298686362352335\n",
      "Epoch 78 :- Training Loss is 1.5999462083547018, Validation Loss is 4.217890096194843\n",
      "Epoch 79 :- Training Loss is 1.5723439000785286, Validation Loss is 4.139980699507785\n",
      "Epoch 80 :- Training Loss is 1.5456828829031475, Validation Loss is 4.064808499744009\n",
      "Epoch 81 :- Training Loss is 1.5199158866552442, Validation Loss is 3.992233895142115\n",
      "Epoch 82 :- Training Loss is 1.494998743695478, Validation Loss is 3.9221265275928965\n",
      "Epoch 83 :- Training Loss is 1.4708901393934195, Validation Loss is 3.854364535278834\n",
      "Epoch 84 :- Training Loss is 1.4475513862222789, Validation Loss is 3.788833876290064\n",
      "Epoch 85 :- Training Loss is 1.4249462189133992, Validation Loss is 3.7254277155080113\n",
      "Epoch 86 :- Training Loss is 1.4030406084219698, Validation Loss is 3.6640458679867125\n",
      "Epoch 87 :- Training Loss is 1.381802592724843, Validation Loss is 3.6045942928746793\n",
      "Epoch 88 :- Training Loss is 1.361202122705251, Validation Loss is 3.5469846326248398\n",
      "Epoch 89 :- Training Loss is 1.3412109215823633, Validation Loss is 3.4911337928528576\n",
      "Epoch 90 :- Training Loss is 1.3218023565207857, Validation Loss is 3.4369635587377068\n",
      "Epoch 91 :- Training Loss is 1.3029513212096393, Validation Loss is 3.3844002443241257\n",
      "Epoch 92 :- Training Loss is 1.2846341283360212, Validation Loss is 3.333374371493873\n",
      "Epoch 93 :- Training Loss is 1.2668284109961976, Validation Loss is 3.2838203757296744\n",
      "Epoch 94 :- Training Loss is 1.2495130321918393, Validation Loss is 3.235676336108913\n",
      "Epoch 95 :- Training Loss is 1.2326680016501514, Validation Loss is 3.188883727239727\n",
      "Epoch 96 :- Training Loss is 1.2162743992873446, Validation Loss is 3.1433871910949027\n",
      "Epoch 97 :- Training Loss is 1.2003143047060665, Validation Loss is 3.0991343269130884\n",
      "Epoch 98 :- Training Loss is 1.184770732180313, Validation Loss is 3.0560754975262046\n",
      "Epoch 99 :- Training Loss is 1.1696275706370822, Validation Loss is 3.014163650639702\n",
      "Epoch 100 :- Training Loss is 1.1548695281934143, Validation Loss is 2.973354153740831\n",
      "CPU times: user 275 ms, sys: 5.41 ms, total: 281 ms\n",
      "Wall time: 270 ms\n"
     ]
    }
   ],
   "source": [
    "%%time\n",
    "XOR.train(epochs=100, mini_batch_size=64)"
   ]
  },
  {
   "cell_type": "markdown",
   "id": "657a0465",
   "metadata": {},
   "source": [
    "# Plots of training and validation losses"
   ]
  },
  {
   "cell_type": "code",
   "execution_count": 7,
   "id": "7ced7a7a",
   "metadata": {},
   "outputs": [
    {
     "data": {
      "image/png": "[encoded data removed]",
      "text/plain": [
       "<Figure size 432x288 with 1 Axes>"
      ]
     },
     "metadata": {
      "needs_background": "light"
     },
     "output_type": "display_data"
    }
   ],
   "source": [
    "XOR.plot()"
   ]
  },
  {
   "cell_type": "markdown",
   "id": "ab747670",
   "metadata": {},
   "source": [
    "# Rate of convergence\n",
    "The metric here used is q = $\\frac{log \\left| \\frac{X_{i+1}-X_i}{X_i-X_{i-1}} \\right|}{log \\left| \\frac{X_{i}-X_{i-1}}{X_{i-1}-X_{i-2}} \\right|}$"
   ]
  },
  {
   "cell_type": "code",
   "execution_count": 8,
   "id": "06f29eb1",
   "metadata": {},
   "outputs": [],
   "source": [
    "def rate_of_convergence(X):\n",
    "    q = []\n",
    "    for i in range(2, X.shape[0]-1):\n",
    "        q.append(np.log(np.abs((X[i+1]-X[i])/(X[i]-X[i-1])))/np.log(np.abs((X[i]-X[i-1])/(X[i-1]-X[i-2]))))\n",
    "    return np.array(q)"
   ]
  },
  {
   "cell_type": "code",
   "execution_count": 9,
   "id": "8437b2de",
   "metadata": {},
   "outputs": [
    {
     "data": {
      "text/plain": [
       "[<matplotlib.lines.Line2D at 0x7fa2efe5ce80>]"
      ]
     },
     "execution_count": 9,
     "metadata": {},
     "output_type": "execute_result"
    },
    {
     "data": {
      "image/png": "[encoded data removed]",
      "text/plain": [
       "<Figure size 432x288 with 1 Axes>"
      ]
     },
     "metadata": {
      "needs_background": "light"
     },
     "output_type": "display_data"
    }
   ],
   "source": [
    "r_xor = rate_of_convergence(XOR.training_loss.reshape(100, ))\n",
    "\n",
    "plt.figure()\n",
    "plt.title(\"Rate of Convergence\")\n",
    "plt.xlabel(\"epoch\")\n",
    "plt.ylabel(r'q=$\\frac{log \\left| \\frac{X_{i+1}-X_i}{X_i-X_{i-1}} \\right|}{log \\left| \\frac{X_{i}-X_{i-1}}{X_{i-1}-X_{i-2}} \\right|}$')\n",
    "plt.semilogy(r_xor)"
   ]
  },
  {
   "cell_type": "markdown",
   "id": "ffb42666",
   "metadata": {},
   "source": [
    "# Observations\n",
    "* Observe that after 25 epochs rate of covergence is constant which means loss is not significantly changing\n",
    "* After 100 epochs see that model is overfitting the data that's why we see more error in validation set\n",
    "* Output is not discrete like 1 or 0 but continus as signmois continuous function is sitting at the output layer"
   ]
  },
  {
   "cell_type": "markdown",
   "id": "2a6f58ff",
   "metadata": {},
   "source": [
    "# Predictions"
   ]
  },
  {
   "cell_type": "code",
   "execution_count": 10,
   "id": "4d49062b",
   "metadata": {},
   "outputs": [
    {
     "data": {
      "text/html": [
       "<div>\n",
       "<style scoped>\n",
       "    .dataframe tbody tr th:only-of-type {\n",
       "        vertical-align: middle;\n",
       "    }\n",
       "\n",
       "    .dataframe tbody tr th {\n",
       "        vertical-align: top;\n",
       "    }\n",
       "\n",
       "    .dataframe thead th {\n",
       "        text-align: right;\n",
       "    }\n",
       "</style>\n",
       "<table border=\"1\" class=\"dataframe\">\n",
       "  <thead>\n",
       "    <tr style=\"text-align: right;\">\n",
       "      <th></th>\n",
       "      <th>A</th>\n",
       "      <th>B</th>\n",
       "      <th>Output</th>\n",
       "      <th>Threshould</th>\n",
       "    </tr>\n",
       "  </thead>\n",
       "  <tbody>\n",
       "    <tr>\n",
       "      <th>0</th>\n",
       "      <td>0</td>\n",
       "      <td>1</td>\n",
       "      <td>0.978655</td>\n",
       "      <td>1</td>\n",
       "    </tr>\n",
       "    <tr>\n",
       "      <th>1</th>\n",
       "      <td>0</td>\n",
       "      <td>0</td>\n",
       "      <td>0.023741</td>\n",
       "      <td>0</td>\n",
       "    </tr>\n",
       "    <tr>\n",
       "      <th>2</th>\n",
       "      <td>0</td>\n",
       "      <td>1</td>\n",
       "      <td>0.978655</td>\n",
       "      <td>1</td>\n",
       "    </tr>\n",
       "    <tr>\n",
       "      <th>3</th>\n",
       "      <td>1</td>\n",
       "      <td>1</td>\n",
       "      <td>0.020964</td>\n",
       "      <td>0</td>\n",
       "    </tr>\n",
       "  </tbody>\n",
       "</table>\n",
       "</div>"
      ],
      "text/plain": [
       "   A  B    Output  Threshould\n",
       "0  0  1  0.978655           1\n",
       "1  0  0  0.023741           0\n",
       "2  0  1  0.978655           1\n",
       "3  1  1  0.020964           0"
      ]
     },
     "execution_count": 10,
     "metadata": {},
     "output_type": "execute_result"
    }
   ],
   "source": [
    "test = np.array([[0, 0], [0, 1], [1, 0], [1, 1]]).reshape(2, 4)\n",
    "y_test = XOR.predict_for_valid(test).reshape(-1, )\n",
    "pd.DataFrame({\"A\":test[0, :], \"B\":test[1, :], \"Output\":y_test, \"Threshould\":(y_test>0.5).astype(int)}).head()"
   ]
  },
  {
   "cell_type": "markdown",
   "id": "2f944d62",
   "metadata": {},
   "source": [
    "# Learnt parameters"
   ]
  },
  {
   "cell_type": "code",
   "execution_count": 11,
   "id": "06574aa0",
   "metadata": {},
   "outputs": [
    {
     "name": "stdout",
     "output_type": "stream",
     "text": [
      "########### Hidden layer #########\n",
      "[w11=-6.531 w12=6.549]\n",
      "[w21=-5.654 w22=5.374]\n",
      "[b1=3.158 b2=-2.797]\n",
      "\n",
      "\n",
      "########## Output layer ##########\n",
      "[w1=-8.370 w2=9.041]\n",
      "[b=3.792]\n"
     ]
    }
   ],
   "source": [
    "XOR.print_params()"
   ]
  },
  {
   "cell_type": "markdown",
   "id": "b3e6a67d",
   "metadata": {},
   "source": [
    "## Training with different number of samples to observe performance difference"
   ]
  },
  {
   "cell_type": "code",
   "execution_count": 12,
   "id": "ec162f9b",
   "metadata": {},
   "outputs": [
    {
     "name": "stdout",
     "output_type": "stream",
     "text": [
      "-> Total samples = 2500\n",
      "-> Training samples = 2000\n",
      "-> Validation samples = 500\n",
      "-> Total samples = 5000\n",
      "-> Training samples = 4000\n",
      "-> Validation samples = 1000\n"
     ]
    }
   ],
   "source": [
    "# N=2500\n",
    "X_xor_1, Y_xor_1 = generate_samples(2500, \"XOR\")\n",
    "XOR_1 = MLP(X_xor_1, Y_xor_1, validation_split = 0.2)\n",
    "XOR_1.train(epochs=100, mini_batch_size=64, verbose=False)\n",
    "\n",
    "# N=5000\n",
    "X_xor_2, Y_xor_2 = generate_samples(5000, \"XOR\")\n",
    "XOR_2 = MLP(X_xor_2, Y_xor_2, validation_split = 0.2)\n",
    "XOR_2.train(epochs=100, mini_batch_size=64, verbose=False)"
   ]
  },
  {
   "cell_type": "code",
   "execution_count": 13,
   "id": "661e7289",
   "metadata": {},
   "outputs": [
    {
     "data": {
      "text/plain": [
       "<matplotlib.legend.Legend at 0x7fa2efc5fd30>"
      ]
     },
     "execution_count": 13,
     "metadata": {},
     "output_type": "execute_result"
    },
    {
     "data": {
      "image/png": "[encoded data removed]",
      "text/plain": [
       "<Figure size 432x288 with 1 Axes>"
      ]
     },
     "metadata": {
      "needs_background": "light"
     },
     "output_type": "display_data"
    }
   ],
   "source": [
    "E = np.arange(100)\n",
    "\n",
    "plt.figure()\n",
    "plt.title(\"Training Loss\")\n",
    "plt.xlabel(\"epoch\")\n",
    "plt.ylabel(\"MSE\")\n",
    "plt.semilogy(E, XOR.training_loss.reshape(100, ), label=\"N=1000\")\n",
    "plt.semilogy(E, XOR_1.training_loss.reshape(100, ), label=\"N=2500\")\n",
    "plt.semilogy(E, XOR_2.training_loss.reshape(100, ), label=\"N=5000\")\n",
    "plt.legend()"
   ]
  },
  {
   "cell_type": "markdown",
   "id": "2ee00e08",
   "metadata": {},
   "source": [
    "### More the data better the training!"
   ]
  },
  {
   "cell_type": "markdown",
   "id": "cdfcb8a6",
   "metadata": {},
   "source": [
    "# Training for AND"
   ]
  },
  {
   "cell_type": "code",
   "execution_count": 14,
   "id": "e7cdd785",
   "metadata": {},
   "outputs": [],
   "source": [
    "N = 1000\n",
    "X_and, Y_and = generate_samples(N, \"AND\")\n",
    "AND = MLP(X_and, Y_and, validation_split = 0.2)"
   ]
  },
  {
   "cell_type": "code",
   "execution_count": 15,
   "id": "87eaf36a",
   "metadata": {
    "scrolled": true
   },
   "outputs": [
    {
     "name": "stdout",
     "output_type": "stream",
     "text": [
      "-> Total samples = 1000\n",
      "-> Training samples = 800\n",
      "-> Validation samples = 200\n",
      "Epoch 1 :- Training Loss is 138.08500736664183, Validation Loss is 469.5128126246578\n",
      "Epoch 2 :- Training Loss is 121.3440382815691, Validation Loss is 416.7752667957642\n",
      "Epoch 3 :- Training Loss is 110.94323511423097, Validation Loss is 382.41480891070927\n",
      "Epoch 4 :- Training Loss is 100.62915178742156, Validation Loss is 348.0679319457001\n",
      "Epoch 5 :- Training Loss is 88.82165461551905, Validation Loss is 307.00324217802154\n",
      "Epoch 6 :- Training Loss is 72.60377453292706, Validation Loss is 248.9025439066727\n",
      "Epoch 7 :- Training Loss is 54.09579451593313, Validation Loss is 183.70318697688757\n",
      "Epoch 8 :- Training Loss is 39.52426899928278, Validation Loss is 133.6402177722306\n",
      "Epoch 9 :- Training Loss is 29.59218336094646, Validation Loss is 100.0144117266082\n",
      "Epoch 10 :- Training Loss is 22.8706573757275, Validation Loss is 77.37923195010923\n",
      "Epoch 11 :- Training Loss is 18.238200633754843, Validation Loss is 61.8048750294181\n",
      "Epoch 12 :- Training Loss is 14.957290638356051, Validation Loss is 50.78141564836919\n",
      "Epoch 13 :- Training Loss is 12.562447474816858, Validation Loss is 42.73887399318137\n",
      "Epoch 14 :- Training Loss is 10.76291810895464, Validation Loss is 36.69915307981322\n",
      "Epoch 15 :- Training Loss is 9.37483990172805, Validation Loss is 32.04404464978097\n",
      "Epoch 16 :- Training Loss is 8.279216437587941, Validation Loss is 28.373324733640032\n",
      "Epoch 17 :- Training Loss is 7.396947197705133, Validation Loss is 25.42080412167787\n",
      "Epoch 18 :- Training Loss is 6.674027884067963, Validation Loss is 23.004643570958983\n",
      "Epoch 19 :- Training Loss is 6.072646865207231, Validation Loss is 20.99746651829539\n",
      "Epoch 20 :- Training Loss is 5.565709547811154, Validation Loss is 19.307969090995766\n",
      "Epoch 21 :- Training Loss is 5.133388229005702, Validation Loss is 17.869323689324258\n",
      "Epoch 22 :- Training Loss is 4.760894844129804, Validation Loss is 16.63168659302732\n",
      "Epoch 23 :- Training Loss is 4.437009400305324, Validation Loss is 15.557243742597121\n",
      "Epoch 24 :- Training Loss is 4.153086319784748, Validation Loss is 14.616863151981324\n",
      "Epoch 25 :- Training Loss is 3.902369817929092, Validation Loss is 13.787787129992815\n",
      "Epoch 26 :- Training Loss is 3.6795133483778306, Validation Loss is 13.052011662175353\n",
      "Epoch 27 :- Training Loss is 3.480236465030017, Validation Loss is 12.395128830238145\n",
      "Epoch 28 :- Training Loss is 3.301075917051789, Validation Loss is 11.805486934520435\n",
      "Epoch 29 :- Training Loss is 3.1392024619915864, Validation Loss is 11.273572281689708\n",
      "Epoch 30 :- Training Loss is 2.992284231662695, Validation Loss is 10.791548048097518\n",
      "Epoch 31 :- Training Loss is 2.8583835549833614, Validation Loss is 10.352906060845152\n",
      "Epoch 32 :- Training Loss is 2.735878150620708, Validation Loss is 9.952200842152685\n",
      "Epoch 33 :- Training Loss is 2.623400292889697, Validation Loss is 9.584844331573427\n",
      "Epoch 34 :- Training Loss is 2.519789387767111, Validation Loss is 9.246945883375535\n",
      "Epoch 35 :- Training Loss is 2.4240546629662716, Validation Loss is 8.935186411162814\n",
      "Epoch 36 :- Training Loss is 2.3353455633765, Validation Loss is 8.646718546488398\n",
      "Epoch 37 :- Training Loss is 2.252928072353323, Validation Loss is 8.379086802170859\n",
      "Epoch 38 :- Training Loss is 2.17616563068644, Validation Loss is 8.130163254954162\n",
      "Epoch 39 :- Training Loss is 2.1045036523955414, Validation Loss is 7.898095367520497\n",
      "Epoch 40 :- Training Loss is 2.0374568763374055, Validation Loss is 7.68126337987248\n",
      "Epoch 41 :- Training Loss is 1.9745989700439852, Validation Loss is 7.478245299415505\n",
      "Epoch 42 :- Training Loss is 1.9155539346867552, Validation Loss is 7.2877879665427105\n",
      "Epoch 43 :- Training Loss is 1.8599889598254058, Validation Loss is 7.108783009503996\n",
      "Epoch 44 :- Training Loss is 1.8076084523405545, Validation Loss is 6.940246758177022\n",
      "Epoch 45 :- Training Loss is 1.7581490218995375, Validation Loss is 6.781303382088636\n",
      "Epoch 46 :- Training Loss is 1.7113752499655985, Validation Loss is 6.631170668875059\n",
      "Epoch 47 :- Training Loss is 1.6670761040204245, Validation Loss is 6.489147976419939\n",
      "Epoch 48 :- Training Loss is 1.625061885745457, Validation Loss is 6.354605983338411\n",
      "Epoch 49 :- Training Loss is 1.5851616231908745, Validation Loss is 6.2269779343384775\n",
      "Epoch 50 :- Training Loss is 1.5472208337919389, Validation Loss is 6.1057521338118335\n",
      "Epoch 51 :- Training Loss is 1.511099598477633, Validation Loss is 5.990465486189681\n",
      "Epoch 52 :- Training Loss is 1.476670897819545, Validation Loss is 5.8806979177222765\n",
      "Epoch 53 :- Training Loss is 1.4438191697716651, Validation Loss is 5.776067543371243\n",
      "Epoch 54 :- Training Loss is 1.4124390555005524, Validation Loss is 5.676226465948668\n",
      "Epoch 55 :- Training Loss is 1.3824343054448565, Validation Loss is 5.580857113661103\n",
      "Epoch 56 :- Training Loss is 1.3537168223409393, Validation Loss is 5.489669037723849\n",
      "Epoch 57 :- Training Loss is 1.3262058217161166, Validation Loss is 5.402396104405597\n",
      "Epoch 58 :- Training Loss is 1.2998270934464862, Validation Loss is 5.3187940262999005\n",
      "Epoch 59 :- Training Loss is 1.2745123505319376, Validation Loss is 5.238638186233781\n",
      "Epoch 60 :- Training Loss is 1.2501986533586258, Validation Loss is 5.161721714360437\n",
      "Epoch 61 :- Training Loss is 1.226827899480821, Validation Loss is 5.087853784918351\n",
      "Epoch 62 :- Training Loss is 1.2043463704245367, Validation Loss is 5.01685810409209\n",
      "Epoch 63 :- Training Loss is 1.182704328247033, Validation Loss is 4.948571564558157\n",
      "Epoch 64 :- Training Loss is 1.1618556556214243, Validation Loss is 4.882843045784276\n",
      "Epoch 65 :- Training Loss is 1.1417575340883241, Validation Loss is 4.819532342087925\n",
      "Epoch 66 :- Training Loss is 1.122370155854436, Validation Loss is 4.7585092029434115\n",
      "Epoch 67 :- Training Loss is 1.103656465143949, Validation Loss is 4.699652472132604\n",
      "Epoch 68 :- Training Loss is 1.0855819256410866, Validation Loss is 4.642849314125241\n",
      "Epoch 69 :- Training Loss is 1.0681143110162108, Validation Loss is 4.587994517601841\n",
      "Epoch 70 :- Training Loss is 1.0512235159164083, Validation Loss is 4.534989867337774\n",
      "Epoch 71 :- Training Loss is 1.0348813851344165, Validation Loss is 4.4837435767865035\n",
      "Epoch 72 :- Training Loss is 1.0190615589561571, Validation Loss is 4.434169774661712\n",
      "Epoch 73 :- Training Loss is 1.0037393329337592, Validation Loss is 4.386188039646677\n",
      "Epoch 74 :- Training Loss is 0.9888915305440357, Validation Loss is 4.339722978074741\n",
      "Epoch 75 :- Training Loss is 0.9744963873769211, Validation Loss is 4.294703840043923\n",
      "Epoch 76 :- Training Loss is 0.9605334456583275, Validation Loss is 4.251064169965846\n",
      "Epoch 77 :- Training Loss is 0.9469834580510961, Validation Loss is 4.208741488015976\n",
      "Epoch 78 :- Training Loss is 0.933828299798925, Validation Loss is 4.167676999358696\n",
      "Epoch 79 :- Training Loss is 0.9210508883840451, Validation Loss is 4.127815328375939\n",
      "Epoch 80 :- Training Loss is 0.9086351099619756, Validation Loss is 4.089104275438044\n",
      "Epoch 81 :- Training Loss is 0.8965657519178707, Validation Loss is 4.051494594027907\n",
      "Epoch 82 :- Training Loss is 0.8848284409602263, Validation Loss is 4.014939786267743\n",
      "Epoch 83 :- Training Loss is 0.873409586230379, Validation Loss is 3.979395915108088\n",
      "Epoch 84 :- Training Loss is 0.8622963269615042, Validation Loss is 3.944821431623335\n",
      "Epoch 85 :- Training Loss is 0.8514764842695425, Validation Loss is 3.9111770160213144\n",
      "Epoch 86 :- Training Loss is 0.8409385167016193, Validation Loss is 3.8784254311187896\n",
      "Epoch 87 :- Training Loss is 0.8306714792056769, Validation Loss is 3.846531387162203\n",
      "Epoch 88 :- Training Loss is 0.8206649852189439, Validation Loss is 3.8154614169865244\n",
      "Epoch 89 :- Training Loss is 0.8109091716029034, Validation Loss is 3.785183760605345\n",
      "Epoch 90 :- Training Loss is 0.8013946661792356, Validation Loss is 3.7556682584148904\n",
      "Epoch 91 :- Training Loss is 0.7921125576450222, Validation Loss is 3.7268862522744133\n",
      "Epoch 92 :- Training Loss is 0.7830543676668003, Validation Loss is 3.6988104937962776\n",
      "Epoch 93 :- Training Loss is 0.7742120249720891, Validation Loss is 3.671415059242676\n",
      "Epoch 94 :- Training Loss is 0.7655778412739623, Validation Loss is 3.6446752704826455\n",
      "Epoch 95 :- Training Loss is 0.7571444888795748, Validation Loss is 3.6185676215138862\n",
      "Epoch 96 :- Training Loss is 0.7489049798471353, Validation Loss is 3.59306971009948\n",
      "Epoch 97 :- Training Loss is 0.7408526465681611, Validation Loss is 3.568160174110583\n",
      "Epoch 98 :- Training Loss is 0.7329811236628899, Validation Loss is 3.54381863220304\n",
      "Epoch 99 :- Training Loss is 0.725284331086636, Validation Loss is 3.520025628488809\n",
      "Epoch 100 :- Training Loss is 0.7177564583538888, Validation Loss is 3.496762580893222\n",
      "CPU times: user 310 ms, sys: 9.42 ms, total: 320 ms\n",
      "Wall time: 310 ms\n"
     ]
    }
   ],
   "source": [
    "%%time\n",
    "AND.train(epochs=100, mini_batch_size=64)"
   ]
  },
  {
   "cell_type": "markdown",
   "id": "4a39c238",
   "metadata": {},
   "source": [
    "# Visualisation of loss against number of epochs"
   ]
  },
  {
   "cell_type": "code",
   "execution_count": 16,
   "id": "ef670d1e",
   "metadata": {},
   "outputs": [
    {
     "data": {
      "image/png": "[encoded data removed]",
      "text/plain": [
       "<Figure size 432x288 with 1 Axes>"
      ]
     },
     "metadata": {
      "needs_background": "light"
     },
     "output_type": "display_data"
    }
   ],
   "source": [
    "AND.plot()"
   ]
  },
  {
   "cell_type": "markdown",
   "id": "c9e66443",
   "metadata": {},
   "source": [
    "# Rate of convergence"
   ]
  },
  {
   "cell_type": "code",
   "execution_count": 17,
   "id": "fc58d6e2",
   "metadata": {},
   "outputs": [
    {
     "data": {
      "text/plain": [
       "[<matplotlib.lines.Line2D at 0x7fa2efd5d400>]"
      ]
     },
     "execution_count": 17,
     "metadata": {},
     "output_type": "execute_result"
    },
    {
     "data": {
      "image/png": "[encoded data removed]",
      "text/plain": [
       "<Figure size 432x288 with 1 Axes>"
      ]
     },
     "metadata": {
      "needs_background": "light"
     },
     "output_type": "display_data"
    }
   ],
   "source": [
    "r_and = rate_of_convergence(AND.training_loss.reshape(100, ))\n",
    "\n",
    "plt.figure()\n",
    "plt.title(\"Rate of Convergence\")\n",
    "plt.xlabel(\"epoch\")\n",
    "plt.ylabel(r'q=$\\frac{log \\left| \\frac{X_{i+1}-X_i}{X_i-X_{i-1}} \\right|}{log \\left| \\frac{X_{i}-X_{i-1}}{X_{i-1}-X_{i-2}} \\right|}$')\n",
    "plt.semilogy(r_and)"
   ]
  },
  {
   "cell_type": "markdown",
   "id": "9a8f2e34",
   "metadata": {},
   "source": [
    "# Observations\n",
    "* Observe that after 15 epochs rate of covergence is constant which means loss is not significantly changing\n",
    "* After 100 epochs see that model is overfitting the data that's why we see more error in validation set\n",
    "* Output is not discrete like 1 or 0 but continus as signmois continuous function is sitting at the output layer"
   ]
  },
  {
   "cell_type": "markdown",
   "id": "05c0178b",
   "metadata": {},
   "source": [
    "# Predictions"
   ]
  },
  {
   "cell_type": "code",
   "execution_count": 18,
   "id": "31587037",
   "metadata": {},
   "outputs": [
    {
     "data": {
      "text/html": [
       "<div>\n",
       "<style scoped>\n",
       "    .dataframe tbody tr th:only-of-type {\n",
       "        vertical-align: middle;\n",
       "    }\n",
       "\n",
       "    .dataframe tbody tr th {\n",
       "        vertical-align: top;\n",
       "    }\n",
       "\n",
       "    .dataframe thead th {\n",
       "        text-align: right;\n",
       "    }\n",
       "</style>\n",
       "<table border=\"1\" class=\"dataframe\">\n",
       "  <thead>\n",
       "    <tr style=\"text-align: right;\">\n",
       "      <th></th>\n",
       "      <th>A</th>\n",
       "      <th>B</th>\n",
       "      <th>Output</th>\n",
       "      <th>Threshould</th>\n",
       "    </tr>\n",
       "  </thead>\n",
       "  <tbody>\n",
       "    <tr>\n",
       "      <th>0</th>\n",
       "      <td>0</td>\n",
       "      <td>1</td>\n",
       "      <td>0.013778</td>\n",
       "      <td>0</td>\n",
       "    </tr>\n",
       "    <tr>\n",
       "      <th>1</th>\n",
       "      <td>0</td>\n",
       "      <td>0</td>\n",
       "      <td>0.003473</td>\n",
       "      <td>0</td>\n",
       "    </tr>\n",
       "    <tr>\n",
       "      <th>2</th>\n",
       "      <td>0</td>\n",
       "      <td>1</td>\n",
       "      <td>0.013778</td>\n",
       "      <td>0</td>\n",
       "    </tr>\n",
       "    <tr>\n",
       "      <th>3</th>\n",
       "      <td>1</td>\n",
       "      <td>1</td>\n",
       "      <td>0.974241</td>\n",
       "      <td>1</td>\n",
       "    </tr>\n",
       "  </tbody>\n",
       "</table>\n",
       "</div>"
      ],
      "text/plain": [
       "   A  B    Output  Threshould\n",
       "0  0  1  0.013778           0\n",
       "1  0  0  0.003473           0\n",
       "2  0  1  0.013778           0\n",
       "3  1  1  0.974241           1"
      ]
     },
     "execution_count": 18,
     "metadata": {},
     "output_type": "execute_result"
    }
   ],
   "source": [
    "test = np.array([[0, 0], [0, 1], [1, 0], [1, 1]]).reshape(2, 4)\n",
    "y_test = AND.predict_for_valid(test).reshape(-1, )\n",
    "pd.DataFrame({\"A\":test[0, :], \"B\":test[1, :], \"Output\":y_test, \"Threshould\":(y_test>0.5).astype(int)}).head()"
   ]
  },
  {
   "cell_type": "markdown",
   "id": "6ff94120",
   "metadata": {},
   "source": [
    "## Training with different number of samples to observe performance difference"
   ]
  },
  {
   "cell_type": "code",
   "execution_count": 19,
   "id": "965cad86",
   "metadata": {},
   "outputs": [
    {
     "name": "stdout",
     "output_type": "stream",
     "text": [
      "-> Total samples = 2500\n",
      "-> Training samples = 2000\n",
      "-> Validation samples = 500\n",
      "-> Total samples = 5000\n",
      "-> Training samples = 4000\n",
      "-> Validation samples = 1000\n"
     ]
    }
   ],
   "source": [
    "# N=2500\n",
    "X_and_1, Y_and_1 = generate_samples(2500, \"AND\")\n",
    "AND_1 = MLP(X_and_1, Y_and_1, validation_split = 0.2)\n",
    "AND_1.train(epochs=100, mini_batch_size=64, verbose=False)\n",
    "\n",
    "# N=5000\n",
    "X_and_2, Y_and_2 = generate_samples(5000, \"AND\")\n",
    "AND_2 = MLP(X_and_2, Y_and_2, validation_split = 0.2)\n",
    "AND_2.train(epochs=100, mini_batch_size=64, verbose=False)"
   ]
  },
  {
   "cell_type": "code",
   "execution_count": 20,
   "id": "140f86a0",
   "metadata": {},
   "outputs": [
    {
     "data": {
      "text/plain": [
       "<matplotlib.legend.Legend at 0x7fa2eff3a6d0>"
      ]
     },
     "execution_count": 20,
     "metadata": {},
     "output_type": "execute_result"
    },
    {
     "data": {
      "image/png": "[encoded data removed]",
      "text/plain": [
       "<Figure size 432x288 with 1 Axes>"
      ]
     },
     "metadata": {
      "needs_background": "light"
     },
     "output_type": "display_data"
    }
   ],
   "source": [
    "E = np.arange(100)\n",
    "\n",
    "plt.figure()\n",
    "plt.title(\"Training Loss\")\n",
    "plt.xlabel(\"epoch\")\n",
    "plt.ylabel(\"MSE\")\n",
    "plt.semilogy(E, AND.training_loss.reshape(100, ), label=\"N=1000\")\n",
    "plt.semilogy(E, AND_1.training_loss.reshape(100, ), label=\"N=2500\")\n",
    "plt.semilogy(E, AND_2.training_loss.reshape(100, ), label=\"N=5000\")\n",
    "plt.legend()"
   ]
  },
  {
   "cell_type": "markdown",
   "id": "60d81e8d",
   "metadata": {},
   "source": [
    "### More the data better the training!"
   ]
  },
  {
   "cell_type": "markdown",
   "id": "b85cebcc",
   "metadata": {},
   "source": [
    "# Parameters"
   ]
  },
  {
   "cell_type": "code",
   "execution_count": 21,
   "id": "403cf3d4",
   "metadata": {},
   "outputs": [
    {
     "name": "stdout",
     "output_type": "stream",
     "text": [
      "########### Hidden layer #########\n",
      "[w11=0.161 w12=0.854]\n",
      "[w21=-4.406 w22=-4.378]\n",
      "[b1=1.900 b2=6.326]\n",
      "\n",
      "\n",
      "########## Output layer ##########\n",
      "[w1=2.432 w2=-9.899]\n",
      "[b=2.106]\n"
     ]
    }
   ],
   "source": [
    "AND.print_params()"
   ]
  },
  {
   "cell_type": "markdown",
   "id": "8c08a168",
   "metadata": {},
   "source": [
    "# Training OR"
   ]
  },
  {
   "cell_type": "code",
   "execution_count": 22,
   "id": "381d98bc",
   "metadata": {},
   "outputs": [],
   "source": [
    "N = 1000\n",
    "X_or, Y_or = generate_samples(N, \"OR\")\n",
    "OR = MLP(X_or, Y_or, validation_split = 0.2)"
   ]
  },
  {
   "cell_type": "code",
   "execution_count": 23,
   "id": "324267cc",
   "metadata": {
    "scrolled": true
   },
   "outputs": [
    {
     "name": "stdout",
     "output_type": "stream",
     "text": [
      "-> Total samples = 1000\n",
      "-> Training samples = 800\n",
      "-> Validation samples = 200\n",
      "Epoch 1 :- Training Loss is 174.83913192316254, Validation Loss is 563.705235609221\n",
      "Epoch 2 :- Training Loss is 113.29260678394762, Validation Loss is 347.4724599671387\n",
      "Epoch 3 :- Training Loss is 90.8119732117499, Validation Loss is 280.365965460986\n",
      "Epoch 4 :- Training Loss is 65.13282224202091, Validation Loss is 202.44446570938072\n",
      "Epoch 5 :- Training Loss is 44.25194873154994, Validation Loss is 138.21091129062543\n",
      "Epoch 6 :- Training Loss is 30.54047373383322, Validation Loss is 95.59784878700421\n",
      "Epoch 7 :- Training Loss is 22.08540838343691, Validation Loss is 69.12346922212976\n",
      "Epoch 8 :- Training Loss is 16.769487455501178, Validation Loss is 52.39271548784251\n",
      "Epoch 9 :- Training Loss is 13.271491642767096, Validation Loss is 41.347281148507285\n",
      "Epoch 10 :- Training Loss is 10.857496784157933, Validation Loss is 33.70957335751944\n",
      "Epoch 11 :- Training Loss is 9.119446708333298, Validation Loss is 28.2044288126547\n",
      "Epoch 12 :- Training Loss is 7.822256468900976, Validation Loss is 24.09366234615774\n",
      "Epoch 13 :- Training Loss is 6.824498369278199, Validation Loss is 20.931651153144358\n",
      "Epoch 14 :- Training Loss is 6.037429056798496, Validation Loss is 18.438062979763725\n",
      "Epoch 15 :- Training Loss is 5.403192900296849, Validation Loss is 16.42978145192222\n",
      "Epoch 16 :- Training Loss is 4.882771678348056, Validation Loss is 14.783124310163007\n",
      "Epoch 17 :- Training Loss is 4.449056120137478, Validation Loss is 13.412056641515399\n",
      "Epoch 18 :- Training Loss is 4.082712273592518, Validation Loss is 12.255162400007956\n",
      "Epoch 19 :- Training Loss is 3.7696304642022556, Validation Loss is 11.267588716307205\n",
      "Epoch 20 :- Training Loss is 3.4993020634526473, Validation Loss is 10.415911908379984\n",
      "Epoch 21 :- Training Loss is 3.2637578112960224, Validation Loss is 9.67477506622121\n",
      "Epoch 22 :- Training Loss is 3.0568560220749816, Validation Loss is 9.024631156545857\n",
      "Epoch 23 :- Training Loss is 2.873794604849733, Validation Loss is 8.450194261227733\n",
      "Epoch 24 :- Training Loss is 2.710769714581216, Validation Loss is 7.939355289500114\n",
      "Epoch 25 :- Training Loss is 2.5647325750492254, Validation Loss is 7.482408981095772\n",
      "Epoch 26 :- Training Loss is 2.4332133408032854, Validation Loss is 7.071493672332113\n",
      "Epoch 27 :- Training Loss is 2.314191571489344, Validation Loss is 6.700179112209866\n",
      "Epoch 28 :- Training Loss is 2.205999655304726, Validation Loss is 6.363159002540753\n",
      "Epoch 29 :- Training Loss is 2.1072498789779353, Validation Loss is 6.056018739467017\n",
      "Epoch 30 :- Training Loss is 2.016778706447643, Validation Loss is 5.775057910481071\n",
      "Epoch 31 :- Training Loss is 1.933603743387608, Validation Loss is 5.517153173542837\n",
      "Epoch 32 :- Training Loss is 1.856890165503574, Validation Loss is 5.279651272861702\n",
      "Epoch 33 :- Training Loss is 1.785924285354531, Validation Loss is 5.060284793888839\n",
      "Epoch 34 :- Training Loss is 1.7200925593826168, Validation Loss is 4.857105252179968\n",
      "Epoch 35 :- Training Loss is 1.658864780778898, Validation Loss is 4.66842952221765\n",
      "Epoch 36 :- Training Loss is 1.6017805219795647, Validation Loss is 4.492796624328347\n",
      "Epoch 37 :- Training Loss is 1.5484381211910692, Validation Loss is 4.328932621669434\n",
      "Epoch 38 :- Training Loss is 1.4984856762515475, Validation Loss is 4.175721916980579\n",
      "Epoch 39 :- Training Loss is 1.4516136340846708, Validation Loss is 4.032183636703731\n",
      "Epoch 40 :- Training Loss is 1.4075486572950373, Validation Loss is 3.897452087265027\n",
      "Epoch 41 :- Training Loss is 1.3660485197239116, Validation Loss is 3.7707604922186224\n",
      "Epoch 42 :- Training Loss is 1.3268978361513255, Validation Loss is 3.651427389040431\n",
      "Epoch 43 :- Training Loss is 1.289904472178432, Validation Loss is 3.538845194572735\n",
      "Epoch 44 :- Training Loss is 1.2548965118211408, Validation Loss is 3.432470548542828\n",
      "Epoch 45 :- Training Loss is 1.2217196848034693, Validation Loss is 3.3318161225672815\n",
      "Epoch 46 :- Training Loss is 1.1902351746566069, Validation Loss is 3.2364436430215378\n",
      "Epoch 47 :- Training Loss is 1.1603177437677406, Validation Loss is 3.1459579241171767\n",
      "Epoch 48 :- Training Loss is 1.131854123422929, Validation Loss is 3.060001745486698\n",
      "Epoch 49 :- Training Loss is 1.1047416263593821, Validation Loss is 2.9782514387866166\n",
      "Epoch 50 :- Training Loss is 1.0788869469213735, Validation Loss is 2.9004130720056973\n",
      "Epoch 51 :- Training Loss is 1.0542051200103655, Validation Loss is 2.8262191396123124\n",
      "Epoch 52 :- Training Loss is 1.0306186149480787, Validation Loss is 2.755425682395687\n",
      "Epoch 53 :- Training Loss is 1.0080565443740217, Validation Loss is 2.6878097736244433\n",
      "Epoch 54 :- Training Loss is 0.9864539715649869, Validation Loss is 2.6231673185638464\n",
      "Epoch 55 :- Training Loss is 0.9657513022403925, Validation Loss is 2.5613111229301704\n",
      "Epoch 56 :- Training Loss is 0.9458937491198033, Validation Loss is 2.502069192885408\n",
      "Epoch 57 :- Training Loss is 0.9268308593185826, Validation Loss is 2.4452832349790863\n",
      "Epoch 58 :- Training Loss is 0.9085160961768339, Validation Loss is 2.3908073292570093\n",
      "Epoch 59 :- Training Loss is 0.8909064683731478, Validation Loss is 2.3385067527631462\n",
      "Epoch 60 :- Training Loss is 0.873962200224193, Validation Loss is 2.2882569340074745\n",
      "Epoch 61 :- Training Loss is 0.8576464379510674, Validation Loss is 2.239942521777829\n",
      "Epoch 62 :- Training Loss is 0.8419249874332695, Validation Loss is 2.1934565540328244\n",
      "Epoch 63 :- Training Loss is 0.8267660795955163, Validation Loss is 2.1486997146030857\n",
      "Epoch 64 :- Training Loss is 0.8121401601009846, Validation Loss is 2.105579667112109\n",
      "Epoch 65 :- Training Loss is 0.7980197004730665, Validation Loss is 2.0640104569573534\n",
      "Epoch 66 :- Training Loss is 0.7843790281495197, Validation Loss is 2.023911973408716\n",
      "Epoch 67 :- Training Loss is 0.7711941732987335, Validation Loss is 1.9852094649197765\n",
      "Epoch 68 :- Training Loss is 0.7584427305067887, Validation Loss is 1.9478331016357149\n",
      "Epoch 69 :- Training Loss is 0.7461037336832839, Validation Loss is 1.9117175798440984\n",
      "Epoch 70 :- Training Loss is 0.7341575427397942, Validation Loss is 1.8768017637703474\n",
      "Epoch 71 :- Training Loss is 0.7225857407723371, Validation Loss is 1.8430283606849753\n",
      "Epoch 72 :- Training Loss is 0.7113710406326746, Validation Loss is 1.810343625778244\n",
      "Epoch 73 :- Training Loss is 0.7004971999062031, Validation Loss is 1.7786970936809028\n",
      "Epoch 74 :- Training Loss is 0.6899489434295663, Validation Loss is 1.748041333877062\n",
      "Epoch 75 :- Training Loss is 0.6797118925815586, Validation Loss is 1.7183317275746952\n",
      "Epoch 76 :- Training Loss is 0.6697725006684022, Validation Loss is 1.689526263877795\n",
      "Epoch 77 :- Training Loss is 0.6601179938009815, Validation Loss is 1.6615853533475113\n",
      "Epoch 78 :- Training Loss is 0.6507363167285287, Validation Loss is 1.6344716572524496\n",
      "Epoch 79 :- Training Loss is 0.6416160831519906, Validation Loss is 1.608149930995035\n",
      "Epoch 80 :- Training Loss is 0.6327465300918604, Validation Loss is 1.5825868803648273\n",
      "Epoch 81 :- Training Loss is 0.6241174759306805, Validation Loss is 1.5577510294139634\n",
      "Epoch 82 :- Training Loss is 0.6157192817904193, Validation Loss is 1.5336125988771416\n",
      "Epoch 83 :- Training Loss is 0.6075428159403229, Validation Loss is 1.5101433941709186\n",
      "Epoch 84 :- Training Loss is 0.59957942096208, Validation Loss is 1.4873167021064515\n",
      "Epoch 85 :- Training Loss is 0.5918208834268776, Validation Loss is 1.4651071955378285\n",
      "Epoch 86 :- Training Loss is 0.5842594058635199, Validation Loss is 1.4434908452463162\n",
      "Epoch 87 :- Training Loss is 0.5768875808186293, Validation Loss is 1.4224448384301869\n",
      "Epoch 88 :- Training Loss is 0.5696983668294497, Validation Loss is 1.4019475032316724\n",
      "Epoch 89 :- Training Loss is 0.5626850661470756, Validation Loss is 1.3819782387875954\n",
      "Epoch 90 :- Training Loss is 0.5558413040634665, Validation Loss is 1.362517450339417\n",
      "Epoch 91 :- Training Loss is 0.5491610097094168, Validation Loss is 1.3435464889823618\n",
      "Epoch 92 :- Training Loss is 0.5426383982030831, Validation Loss is 1.325047595672651\n",
      "Epoch 93 :- Training Loss is 0.5362679540397477, Validation Loss is 1.307003849147044\n",
      "Epoch 94 :- Training Loss is 0.5300444156235126, Validation Loss is 1.289399117440599\n",
      "Epoch 95 :- Training Loss is 0.5239627608505425, Validation Loss is 1.272218012716918\n",
      "Epoch 96 :- Training Loss is 0.5180181936615614, Validation Loss is 1.2554458491507285\n",
      "Epoch 97 :- Training Loss is 0.5122061314885827, Validation Loss is 1.2390686036256948\n",
      "Epoch 98 :- Training Loss is 0.5065221935273757, Validation Loss is 1.2230728790310814\n",
      "Epoch 99 :- Training Loss is 0.5009621897731192, Validation Loss is 1.2074458699596757\n",
      "Epoch 100 :- Training Loss is 0.4955221107620261, Validation Loss is 1.1921753306262795\n",
      "CPU times: user 334 ms, sys: 16.1 ms, total: 350 ms\n",
      "Wall time: 343 ms\n"
     ]
    }
   ],
   "source": [
    "%%time\n",
    "OR.train(epochs=100, mini_batch_size=64)"
   ]
  },
  {
   "cell_type": "markdown",
   "id": "8ebd081f",
   "metadata": {},
   "source": [
    "# Visulisation of losses against number of epochs"
   ]
  },
  {
   "cell_type": "code",
   "execution_count": 24,
   "id": "6468b088",
   "metadata": {},
   "outputs": [
    {
     "data": {
      "image/png": "[encoded data removed]",
      "text/plain": [
       "<Figure size 432x288 with 1 Axes>"
      ]
     },
     "metadata": {
      "needs_background": "light"
     },
     "output_type": "display_data"
    }
   ],
   "source": [
    "OR.plot()"
   ]
  },
  {
   "cell_type": "markdown",
   "id": "5e41ecef",
   "metadata": {},
   "source": [
    "# Rate of convergence"
   ]
  },
  {
   "cell_type": "code",
   "execution_count": 25,
   "id": "60ac467d",
   "metadata": {},
   "outputs": [
    {
     "data": {
      "text/plain": [
       "[<matplotlib.lines.Line2D at 0x7fa2eff42b50>]"
      ]
     },
     "execution_count": 25,
     "metadata": {},
     "output_type": "execute_result"
    },
    {
     "data": {
      "image/png": "[encoded data removed]",
      "text/plain": [
       "<Figure size 432x288 with 1 Axes>"
      ]
     },
     "metadata": {
      "needs_background": "light"
     },
     "output_type": "display_data"
    }
   ],
   "source": [
    "r_or = rate_of_convergence(OR.training_loss.reshape(100, ))\n",
    "\n",
    "plt.figure()\n",
    "plt.title(\"Rate of Convergence\")\n",
    "plt.xlabel(\"epoch\")\n",
    "plt.ylabel(r'q=$\\frac{log \\left| \\frac{X_{i+1}-X_i}{X_i-X_{i-1}} \\right|}{log \\left| \\frac{X_{i}-X_{i-1}}{X_{i-1}-X_{i-2}} \\right|}$')\n",
    "plt.semilogy(r_or)"
   ]
  },
  {
   "cell_type": "markdown",
   "id": "5808d764",
   "metadata": {},
   "source": [
    "# Observations\n",
    "* Observe that after 15 epochs rate of covergence is constant which means loss is not significantly changing\n",
    "* After 100 epochs see that model is overfitting the data that's why we see more error in validation set\n",
    "* Output is not discrete like 1 or 0 but continus as signmois continuous function is sitting at the output layer"
   ]
  },
  {
   "cell_type": "markdown",
   "id": "340217b8",
   "metadata": {},
   "source": [
    "# Predictions"
   ]
  },
  {
   "cell_type": "code",
   "execution_count": 26,
   "id": "7df9d0f3",
   "metadata": {},
   "outputs": [
    {
     "data": {
      "text/html": [
       "<div>\n",
       "<style scoped>\n",
       "    .dataframe tbody tr th:only-of-type {\n",
       "        vertical-align: middle;\n",
       "    }\n",
       "\n",
       "    .dataframe tbody tr th {\n",
       "        vertical-align: top;\n",
       "    }\n",
       "\n",
       "    .dataframe thead th {\n",
       "        text-align: right;\n",
       "    }\n",
       "</style>\n",
       "<table border=\"1\" class=\"dataframe\">\n",
       "  <thead>\n",
       "    <tr style=\"text-align: right;\">\n",
       "      <th></th>\n",
       "      <th>A</th>\n",
       "      <th>B</th>\n",
       "      <th>Output</th>\n",
       "      <th>Threshould</th>\n",
       "    </tr>\n",
       "  </thead>\n",
       "  <tbody>\n",
       "    <tr>\n",
       "      <th>0</th>\n",
       "      <td>0</td>\n",
       "      <td>1</td>\n",
       "      <td>0.991232</td>\n",
       "      <td>1</td>\n",
       "    </tr>\n",
       "    <tr>\n",
       "      <th>1</th>\n",
       "      <td>0</td>\n",
       "      <td>0</td>\n",
       "      <td>0.019598</td>\n",
       "      <td>0</td>\n",
       "    </tr>\n",
       "    <tr>\n",
       "      <th>2</th>\n",
       "      <td>0</td>\n",
       "      <td>1</td>\n",
       "      <td>0.991232</td>\n",
       "      <td>1</td>\n",
       "    </tr>\n",
       "    <tr>\n",
       "      <th>3</th>\n",
       "      <td>1</td>\n",
       "      <td>1</td>\n",
       "      <td>0.997857</td>\n",
       "      <td>1</td>\n",
       "    </tr>\n",
       "  </tbody>\n",
       "</table>\n",
       "</div>"
      ],
      "text/plain": [
       "   A  B    Output  Threshould\n",
       "0  0  1  0.991232           1\n",
       "1  0  0  0.019598           0\n",
       "2  0  1  0.991232           1\n",
       "3  1  1  0.997857           1"
      ]
     },
     "execution_count": 26,
     "metadata": {},
     "output_type": "execute_result"
    }
   ],
   "source": [
    "test = np.array([[0, 0], [0, 1], [1, 0], [1, 1]]).reshape(2, 4)\n",
    "y_test = OR.predict_for_valid(test).reshape(-1, )\n",
    "pd.DataFrame({\"A\":test[0, :], \"B\":test[1, :], \"Output\":y_test, \"Threshould\":(y_test>0.5).astype(int)}).head()"
   ]
  },
  {
   "cell_type": "markdown",
   "id": "7ccdbd98",
   "metadata": {},
   "source": [
    "## Training with different number of samples to observe performance difference"
   ]
  },
  {
   "cell_type": "code",
   "execution_count": 27,
   "id": "03cbe54b",
   "metadata": {},
   "outputs": [
    {
     "name": "stdout",
     "output_type": "stream",
     "text": [
      "-> Total samples = 2500\n",
      "-> Training samples = 2000\n",
      "-> Validation samples = 500\n",
      "-> Total samples = 5000\n",
      "-> Training samples = 4000\n",
      "-> Validation samples = 1000\n"
     ]
    }
   ],
   "source": [
    "# N=2500\n",
    "X_or_1, Y_or_1 = generate_samples(2500, \"OR\")\n",
    "OR_1 = MLP(X_or_1, Y_or_1, validation_split = 0.2)\n",
    "OR_1.train(epochs=100, mini_batch_size=64, verbose=False)\n",
    "\n",
    "# N=5000\n",
    "X_or_2, Y_or_2 = generate_samples(5000, \"OR\")\n",
    "OR_2 = MLP(X_or_2, Y_or_2, validation_split = 0.2)\n",
    "OR_2.train(epochs=100, mini_batch_size=64, verbose=False)"
   ]
  },
  {
   "cell_type": "code",
   "execution_count": 28,
   "id": "cdadfcf4",
   "metadata": {},
   "outputs": [
    {
     "data": {
      "text/plain": [
       "<matplotlib.legend.Legend at 0x7fa2ef7f4d90>"
      ]
     },
     "execution_count": 28,
     "metadata": {},
     "output_type": "execute_result"
    },
    {
     "data": {
      "image/png": "[encoded data removed]",
      "text/plain": [
       "<Figure size 432x288 with 1 Axes>"
      ]
     },
     "metadata": {
      "needs_background": "light"
     },
     "output_type": "display_data"
    }
   ],
   "source": [
    "E = np.arange(100)\n",
    "\n",
    "plt.figure()\n",
    "plt.title(\"Training Loss\")\n",
    "plt.xlabel(\"epoch\")\n",
    "plt.ylabel(\"MSE\")\n",
    "plt.semilogy(E, OR.training_loss.reshape(100, ), label=\"N=1000\")\n",
    "plt.semilogy(E, OR_1.training_loss.reshape(100, ), label=\"N=2500\")\n",
    "plt.semilogy(E, OR_2.training_loss.reshape(100, ), label=\"N=5000\")\n",
    "plt.legend()"
   ]
  },
  {
   "cell_type": "markdown",
   "id": "9acc03c6",
   "metadata": {},
   "source": [
    "### More the data better the training!"
   ]
  },
  {
   "cell_type": "markdown",
   "id": "e75f6b5e",
   "metadata": {},
   "source": [
    "# Parameters"
   ]
  },
  {
   "cell_type": "code",
   "execution_count": 29,
   "id": "e0dc0694",
   "metadata": {},
   "outputs": [
    {
     "name": "stdout",
     "output_type": "stream",
     "text": [
      "########### Hidden layer #########\n",
      "[w11=4.311 w12=4.429]\n",
      "[w21=3.946 w22=3.782]\n",
      "[b1=-2.310 b2=-2.089]\n",
      "\n",
      "\n",
      "########## Output layer ##########\n",
      "[w1=6.154 w2=5.041]\n",
      "[b=-5.024]\n"
     ]
    }
   ],
   "source": [
    "OR.print_params()"
   ]
  }
 ],
 "metadata": {
  "kernelspec": {
   "display_name": "Python 3",
   "language": "python",
   "name": "python3"
  },
  "language_info": {
   "codemirror_mode": {
    "name": "ipython",
    "version": 3
   },
   "file_extension": ".py",
   "mimetype": "text/x-python",
   "name": "python",
   "nbconvert_exporter": "python",
   "pygments_lexer": "ipython3",
   "version": "3.8.10"
  }
 },
 "nbformat": 4,
 "nbformat_minor": 5
}
